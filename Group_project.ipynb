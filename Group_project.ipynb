{
 "cells": [
  {
   "cell_type": "code",
   "execution_count": 1,
   "id": "53831701-a62f-46a6-bb8c-d061f19333cf",
   "metadata": {},
   "outputs": [
    {
     "name": "stderr",
     "output_type": "stream",
     "text": [
      "── \u001b[1mAttaching core tidyverse packages\u001b[22m ──────────────────────── tidyverse 2.0.0 ──\n",
      "\u001b[32m✔\u001b[39m \u001b[34mdplyr    \u001b[39m 1.1.3     \u001b[32m✔\u001b[39m \u001b[34mreadr    \u001b[39m 2.1.4\n",
      "\u001b[32m✔\u001b[39m \u001b[34mforcats  \u001b[39m 1.0.0     \u001b[32m✔\u001b[39m \u001b[34mstringr  \u001b[39m 1.5.0\n",
      "\u001b[32m✔\u001b[39m \u001b[34mggplot2  \u001b[39m 3.4.4     \u001b[32m✔\u001b[39m \u001b[34mtibble   \u001b[39m 3.2.1\n",
      "\u001b[32m✔\u001b[39m \u001b[34mlubridate\u001b[39m 1.9.3     \u001b[32m✔\u001b[39m \u001b[34mtidyr    \u001b[39m 1.3.0\n",
      "\u001b[32m✔\u001b[39m \u001b[34mpurrr    \u001b[39m 1.0.2     \n",
      "── \u001b[1mConflicts\u001b[22m ────────────────────────────────────────── tidyverse_conflicts() ──\n",
      "\u001b[31m✖\u001b[39m \u001b[34mdplyr\u001b[39m::\u001b[32mfilter()\u001b[39m masks \u001b[34mstats\u001b[39m::filter()\n",
      "\u001b[31m✖\u001b[39m \u001b[34mdplyr\u001b[39m::\u001b[32mlag()\u001b[39m    masks \u001b[34mstats\u001b[39m::lag()\n",
      "\u001b[36mℹ\u001b[39m Use the conflicted package (\u001b[3m\u001b[34m<http://conflicted.r-lib.org/>\u001b[39m\u001b[23m) to force all conflicts to become errors\n",
      "Warning message:\n",
      "“package ‘cowplot’ was built under R version 4.3.2”\n",
      "\n",
      "Attaching package: ‘cowplot’\n",
      "\n",
      "\n",
      "The following object is masked from ‘package:lubridate’:\n",
      "\n",
      "    stamp\n",
      "\n",
      "\n"
     ]
    }
   ],
   "source": [
    "library(tidyverse)\n",
    "library(readxl)\n",
    "library(ggplot2)\n",
    "library(cowplot)"
   ]
  },
  {
   "cell_type": "markdown",
   "id": "c116aa8c-d90d-4499-8b63-89e3cbda6bfd",
   "metadata": {},
   "source": [
    "### Predictive Analytics for Knowledge Level Assessment: An Integrated Approach Using Classification and Performance Metrics"
   ]
  },
  {
   "attachments": {},
   "cell_type": "markdown",
   "id": "1df844c7-cc25-486b-b6aa-808e91ef2b2c",
   "metadata": {},
   "source": [
    "#### Introduction:\n",
    "\n",
    "To what extent exam performance dictates an individual’s knowledge level has been a longstanding inquiry in educational research. In this project, we aim to explore this question by delving into a dataset focused on assessing students' knowledge status in the subject of **Electrical DC Machines**. Our objective is to uncover the correlation between one’s knowledge level (UNS) and several factors:\n",
    "\n",
    "`STG` The degree of study time for goal object materials\n",
    "\n",
    "`STR` The degree of study time of user for related objects with goal object\n",
    "\n",
    "`LPR` The exam performance of user for related objects with goal object\n",
    "\n",
    "`PEG` The exam performance of user for goal objects\n",
    "\n",
    ">By analyzing this dataset, we aim to clearly discern the classification of users' knowledge levels across the defined categories: *very_low, Low, Middle, and High*. Understanding these knowledge levels is crucial for optimizing educational strategies and interventions in this particular subject.\n",
    "\n",
    "**Research Question:**\n",
    "\n",
    "Is it accurate to predict a student's knowledge level (`UNS`) based  on their `STG`,`STR`, `LPR`, and`PEG`?"
   ]
  },
  {
   "cell_type": "code",
   "execution_count": 6,
   "id": "5cc072cb-fc1c-43f2-9c38-2161098190f2",
   "metadata": {},
   "outputs": [
    {
     "name": "stderr",
     "output_type": "stream",
     "text": [
      "\u001b[1m\u001b[22mNew names:\n",
      "\u001b[36m•\u001b[39m `` -> `...7`\n",
      "\u001b[36m•\u001b[39m `` -> `...8`\n",
      "\u001b[1m\u001b[22mNew names:\n",
      "\u001b[36m•\u001b[39m `` -> `...7`\n",
      "\u001b[36m•\u001b[39m `` -> `...8`\n"
     ]
    },
    {
     "data": {
      "text/html": [
       "<table class=\"dataframe\">\n",
       "<caption>A tibble: 10 × 6</caption>\n",
       "<thead>\n",
       "\t<tr><th scope=col>STG</th><th scope=col>SCG</th><th scope=col>STR</th><th scope=col>LPR</th><th scope=col>PEG</th><th scope=col>UNS</th></tr>\n",
       "\t<tr><th scope=col>&lt;dbl&gt;</th><th scope=col>&lt;dbl&gt;</th><th scope=col>&lt;dbl&gt;</th><th scope=col>&lt;dbl&gt;</th><th scope=col>&lt;dbl&gt;</th><th scope=col>&lt;chr&gt;</th></tr>\n",
       "</thead>\n",
       "<tbody>\n",
       "\t<tr><td>0.00</td><td>0.00</td><td>0.00</td><td>0.00</td><td>0.00</td><td>very_low</td></tr>\n",
       "\t<tr><td>0.08</td><td>0.08</td><td>0.10</td><td>0.24</td><td>0.90</td><td>High    </td></tr>\n",
       "\t<tr><td>0.06</td><td>0.06</td><td>0.05</td><td>0.25</td><td>0.33</td><td>Low     </td></tr>\n",
       "\t<tr><td>0.10</td><td>0.10</td><td>0.15</td><td>0.65</td><td>0.30</td><td>Middle  </td></tr>\n",
       "\t<tr><td>0.08</td><td>0.08</td><td>0.08</td><td>0.98</td><td>0.24</td><td>Low     </td></tr>\n",
       "\t<tr><td>0.09</td><td>0.15</td><td>0.40</td><td>0.10</td><td>0.66</td><td>Middle  </td></tr>\n",
       "\t<tr><td>0.10</td><td>0.10</td><td>0.43</td><td>0.29</td><td>0.56</td><td>Middle  </td></tr>\n",
       "\t<tr><td>0.15</td><td>0.02</td><td>0.34</td><td>0.40</td><td>0.01</td><td>very_low</td></tr>\n",
       "\t<tr><td>0.20</td><td>0.14</td><td>0.35</td><td>0.72</td><td>0.25</td><td>Low     </td></tr>\n",
       "\t<tr><td>0.00</td><td>0.00</td><td>0.50</td><td>0.20</td><td>0.85</td><td>High    </td></tr>\n",
       "</tbody>\n",
       "</table>\n"
      ],
      "text/latex": [
       "A tibble: 10 × 6\n",
       "\\begin{tabular}{llllll}\n",
       " STG & SCG & STR & LPR & PEG & UNS\\\\\n",
       " <dbl> & <dbl> & <dbl> & <dbl> & <dbl> & <chr>\\\\\n",
       "\\hline\n",
       "\t 0.00 & 0.00 & 0.00 & 0.00 & 0.00 & very\\_low\\\\\n",
       "\t 0.08 & 0.08 & 0.10 & 0.24 & 0.90 & High    \\\\\n",
       "\t 0.06 & 0.06 & 0.05 & 0.25 & 0.33 & Low     \\\\\n",
       "\t 0.10 & 0.10 & 0.15 & 0.65 & 0.30 & Middle  \\\\\n",
       "\t 0.08 & 0.08 & 0.08 & 0.98 & 0.24 & Low     \\\\\n",
       "\t 0.09 & 0.15 & 0.40 & 0.10 & 0.66 & Middle  \\\\\n",
       "\t 0.10 & 0.10 & 0.43 & 0.29 & 0.56 & Middle  \\\\\n",
       "\t 0.15 & 0.02 & 0.34 & 0.40 & 0.01 & very\\_low\\\\\n",
       "\t 0.20 & 0.14 & 0.35 & 0.72 & 0.25 & Low     \\\\\n",
       "\t 0.00 & 0.00 & 0.50 & 0.20 & 0.85 & High    \\\\\n",
       "\\end{tabular}\n"
      ],
      "text/markdown": [
       "\n",
       "A tibble: 10 × 6\n",
       "\n",
       "| STG &lt;dbl&gt; | SCG &lt;dbl&gt; | STR &lt;dbl&gt; | LPR &lt;dbl&gt; | PEG &lt;dbl&gt; | UNS &lt;chr&gt; |\n",
       "|---|---|---|---|---|---|\n",
       "| 0.00 | 0.00 | 0.00 | 0.00 | 0.00 | very_low |\n",
       "| 0.08 | 0.08 | 0.10 | 0.24 | 0.90 | High     |\n",
       "| 0.06 | 0.06 | 0.05 | 0.25 | 0.33 | Low      |\n",
       "| 0.10 | 0.10 | 0.15 | 0.65 | 0.30 | Middle   |\n",
       "| 0.08 | 0.08 | 0.08 | 0.98 | 0.24 | Low      |\n",
       "| 0.09 | 0.15 | 0.40 | 0.10 | 0.66 | Middle   |\n",
       "| 0.10 | 0.10 | 0.43 | 0.29 | 0.56 | Middle   |\n",
       "| 0.15 | 0.02 | 0.34 | 0.40 | 0.01 | very_low |\n",
       "| 0.20 | 0.14 | 0.35 | 0.72 | 0.25 | Low      |\n",
       "| 0.00 | 0.00 | 0.50 | 0.20 | 0.85 | High     |\n",
       "\n"
      ],
      "text/plain": [
       "   STG  SCG  STR  LPR  PEG  UNS     \n",
       "1  0.00 0.00 0.00 0.00 0.00 very_low\n",
       "2  0.08 0.08 0.10 0.24 0.90 High    \n",
       "3  0.06 0.06 0.05 0.25 0.33 Low     \n",
       "4  0.10 0.10 0.15 0.65 0.30 Middle  \n",
       "5  0.08 0.08 0.08 0.98 0.24 Low     \n",
       "6  0.09 0.15 0.40 0.10 0.66 Middle  \n",
       "7  0.10 0.10 0.43 0.29 0.56 Middle  \n",
       "8  0.15 0.02 0.34 0.40 0.01 very_low\n",
       "9  0.20 0.14 0.35 0.72 0.25 Low     \n",
       "10 0.00 0.00 0.50 0.20 0.85 High    "
      ]
     },
     "metadata": {},
     "output_type": "display_data"
    },
    {
     "data": {
      "text/html": [
       "<table class=\"dataframe\">\n",
       "<caption>A tibble: 4 × 6</caption>\n",
       "<thead>\n",
       "\t<tr><th scope=col>UNS</th><th scope=col>count</th><th scope=col>STG_mean</th><th scope=col>STR_mean</th><th scope=col>LPG_mean</th><th scope=col>PEG_mean</th></tr>\n",
       "\t<tr><th scope=col>&lt;chr&gt;</th><th scope=col>&lt;int&gt;</th><th scope=col>&lt;dbl&gt;</th><th scope=col>&lt;dbl&gt;</th><th scope=col>&lt;dbl&gt;</th><th scope=col>&lt;dbl&gt;</th></tr>\n",
       "</thead>\n",
       "<tbody>\n",
       "\t<tr><td>High    </td><td>63</td><td>0.4216508</td><td>0.4216508</td><td>0.4216508</td><td>0.4216508</td></tr>\n",
       "\t<tr><td>Low     </td><td>83</td><td>0.3211446</td><td>0.3211446</td><td>0.3211446</td><td>0.3211446</td></tr>\n",
       "\t<tr><td>Middle  </td><td>88</td><td>0.3999773</td><td>0.3999773</td><td>0.3999773</td><td>0.3999773</td></tr>\n",
       "\t<tr><td>very_low</td><td>24</td><td>0.3057917</td><td>0.3057917</td><td>0.3057917</td><td>0.3057917</td></tr>\n",
       "</tbody>\n",
       "</table>\n"
      ],
      "text/latex": [
       "A tibble: 4 × 6\n",
       "\\begin{tabular}{llllll}\n",
       " UNS & count & STG\\_mean & STR\\_mean & LPG\\_mean & PEG\\_mean\\\\\n",
       " <chr> & <int> & <dbl> & <dbl> & <dbl> & <dbl>\\\\\n",
       "\\hline\n",
       "\t High     & 63 & 0.4216508 & 0.4216508 & 0.4216508 & 0.4216508\\\\\n",
       "\t Low      & 83 & 0.3211446 & 0.3211446 & 0.3211446 & 0.3211446\\\\\n",
       "\t Middle   & 88 & 0.3999773 & 0.3999773 & 0.3999773 & 0.3999773\\\\\n",
       "\t very\\_low & 24 & 0.3057917 & 0.3057917 & 0.3057917 & 0.3057917\\\\\n",
       "\\end{tabular}\n"
      ],
      "text/markdown": [
       "\n",
       "A tibble: 4 × 6\n",
       "\n",
       "| UNS &lt;chr&gt; | count &lt;int&gt; | STG_mean &lt;dbl&gt; | STR_mean &lt;dbl&gt; | LPG_mean &lt;dbl&gt; | PEG_mean &lt;dbl&gt; |\n",
       "|---|---|---|---|---|---|\n",
       "| High     | 63 | 0.4216508 | 0.4216508 | 0.4216508 | 0.4216508 |\n",
       "| Low      | 83 | 0.3211446 | 0.3211446 | 0.3211446 | 0.3211446 |\n",
       "| Middle   | 88 | 0.3999773 | 0.3999773 | 0.3999773 | 0.3999773 |\n",
       "| very_low | 24 | 0.3057917 | 0.3057917 | 0.3057917 | 0.3057917 |\n",
       "\n"
      ],
      "text/plain": [
       "  UNS      count STG_mean  STR_mean  LPG_mean  PEG_mean \n",
       "1 High     63    0.4216508 0.4216508 0.4216508 0.4216508\n",
       "2 Low      83    0.3211446 0.3211446 0.3211446 0.3211446\n",
       "3 Middle   88    0.3999773 0.3999773 0.3999773 0.3999773\n",
       "4 very_low 24    0.3057917 0.3057917 0.3057917 0.3057917"
      ]
     },
     "metadata": {},
     "output_type": "display_data"
    }
   ],
   "source": [
    "url <- \"https://archive.ics.uci.edu/static/public/257/user+knowledge+modeling.zip\"\n",
    "temp <- tempfile()\n",
    "temp2 <- tempfile()\n",
    "\n",
    "download.file(url, temp)\n",
    "unzip(zipfile = temp, exdir = temp2)\n",
    "data_training <- read_excel(file.path(temp2, \"Data_User_Modeling_Dataset_Hamdi Tolga KAHRAMAN.xls\"), sheet = 2) #training data\n",
    "data_testing <- read_excel(file.path(temp2, \"Data_User_Modeling_Dataset_Hamdi Tolga KAHRAMAN.xls\"), sheet = 3)  #testing data\n",
    "unlink(c(temp, temp2))\n",
    "\n",
    "\n",
    "knowledge_training <- select(data_training, STG:UNS) #selected useful columns\n",
    "slice(knowledge_training, 1:10) #sliced so as not to clog screen \n",
    "\n",
    "summary_knowledge_training <- knowledge_training |>   # this table shows the total amount of observations per knowledge lvl\n",
    "    group_by(UNS) |>                                  # and the mean values for each predictor for each knowledge lvl\n",
    "    summarize(count = n(),\n",
    "             STG_mean = mean(STG),\n",
    "             STR_mean = mean(STG),\n",
    "             LPG_mean = mean(STG),\n",
    "             PEG_mean = mean(STG))\n",
    "\n",
    "summary_knowledge_training"
   ]
  },
  {
   "cell_type": "code",
   "execution_count": 1,
   "id": "d43d3751-8e6d-414e-930f-2ef620226e9f",
   "metadata": {},
   "outputs": [
    {
     "ename": "ERROR",
     "evalue": "Error in ggplot(knowledge_training, aes(x = STG, fill = as_factor(UNS))): could not find function \"ggplot\"\n",
     "output_type": "error",
     "traceback": [
      "Error in ggplot(knowledge_training, aes(x = STG, fill = as_factor(UNS))): could not find function \"ggplot\"\nTraceback:\n"
     ]
    }
   ],
   "source": [
    "options(repr.plot.width = 10, repr.plot.height = 7)\n",
    "knowledge_STG_hist <- ggplot(knowledge_training, aes(x = STG, fill = as_factor(UNS))) +\n",
    "  geom_histogram() +\n",
    "  facet_grid(rows = vars(UNS)) +\n",
    "  labs(x = \"Study Time for Goal Object Materials\", y = \"# Measurements\", fill = \"Knowledge Level\")\n",
    "\n",
    "knowledge_STR_hist <- ggplot(knowledge_training, aes(x = STR, fill = as_factor(UNS))) +\n",
    "  geom_histogram() +\n",
    "  facet_grid(rows = vars(UNS)) +\n",
    "  labs(x = \"Study Time for Related Object Materials\", y = \"# Measurements\", fill = \"Knowledge Level\")\n",
    "\n",
    "\n",
    "\n",
    "\n",
    "knowledge_PEG_hist <- ggplot(knowledge_training, aes(x = PEG, fill = as_factor(UNS))) +\n",
    "  geom_histogram() +\n",
    "  facet_grid(rows = vars(UNS)) +\n",
    "  labs(x = \"Exam Results for Goal Object Materials\", y = \"# Measurements\", fill = \"Knowledge Level\")\n",
    "\n",
    "\n",
    "\n",
    "\n",
    "knowledge_LPR_hist <- ggplot(knowledge_training, aes(x = LPR, fill = as_factor(UNS))) +\n",
    "  geom_histogram() +\n",
    "  facet_grid(rows = vars(UNS)) +\n",
    "  labs(x = \"Exam Results for Related Object Materials\", y = \"# Measurements\", fill = \"Knowledge Level\")\n",
    "\n",
    "plot_grid(knowledge_STG_hist, knowledge_STR_hist)  # plots showing the distributions of each predictor\n",
    "plot_grid(knowledge_PEG_hist, knowledge_LPR_hist)"
   ]
  },
  {
   "cell_type": "markdown",
   "id": "50d2853c-710c-4476-8ce5-f77aab04d3f4",
   "metadata": {},
   "source": [
    "#### Methods:\r",
    "Our data analysis approach entails the careful selection of pertinent variables for prediction. Specifically, the columns selected for prediction are STG, STR, PEG, and PEG (as defined in the introduction) all serving as predictors for an individual’s knowledge level.\n",
    "\n",
    "In preparation for our analysis, we divided our dataset into training and testing sets. This division allows us to train our classification model on one portion of the data and evaluate its performance on an independent set, providing insights into the model's generalization capabilities.\n",
    "\n",
    "For the visualization of the classification results, we will leverage a confusion matrix, providing a comprehensive overview of the model's performance with the counts of true positive, true negative, false positive, and false negative predictions for each class within the predicted variable. In this case, the predicted variable is the \"knowledge level,\" and the confusion matrix offers an insightful representation of the classification results across the various knowledge levels.\n",
    "\n",
    "Additionally, our results will be measured by accuracy, precision, and recall, providing a quantitative evaluation of the classification model's overall correctness, precision in predictions, and ability to capture relevant instances, respectively. These metrics further contribute to a comprehensive assessment of the model's performance.rmance."
   ]
  },
  {
   "cell_type": "markdown",
   "id": "eb48114f-2be4-4db8-a1c2-e3da44d8f431",
   "metadata": {},
   "source": [
    "#### Expected outcomes and significance:\n",
    "\n",
    "Through our data analysis, we are expected to find a positive correlation with exam study time and an individual's knowledge level, regardless of the study material. This outcome may propose potential amendments to current educational practices. Recognizing the importance of study time may increase the significance of early student support services such as resources to help manage and sustain study schedules to help promote effective study habits that would significantly benefit them in higher education. \n",
    "\n",
    "Moreover, our analysis could be extended to analyze potential individual differences, such as influences of prior knowledge and cognitive abilities, which may alter one's knowledge level. We could also explore various study methods that may yield insight into which study method is most effective for retaining information over a prolonged period."
   ]
  }
 ],
 "metadata": {
  "kernelspec": {
   "display_name": "R",
   "language": "R",
   "name": "ir"
  },
  "language_info": {
   "codemirror_mode": "r",
   "file_extension": ".r",
   "mimetype": "text/x-r-source",
   "name": "R",
   "pygments_lexer": "r",
   "version": "4.3.1"
  }
 },
 "nbformat": 4,
 "nbformat_minor": 5
}
